{
 "cells": [
  {
   "cell_type": "code",
   "execution_count": 1,
   "metadata": {},
   "outputs": [],
   "source": [
    "from enum import Enum, IntEnum\n",
    "from random import *\n",
    "\n",
    "# enum class for suits\n",
    "class Suits(Enum):\n",
    "    HEARTS = \"hearts\"\n",
    "    SPADES = \"spades\"\n",
    "    CLUBS = \"clubs\"\n",
    "    DIAMONDS = \"diamonds\"\n",
    "    \n",
    "# enum class for values\n",
    "class Values(IntEnum):\n",
    "    ACE = 1\n",
    "    TWO = 2\n",
    "    THREE = 3\n",
    "    FOUR = 4\n",
    "    FIVE = 5\n",
    "    SIX = 6\n",
    "    SEVEN = 7\n",
    "    EIGHT = 8\n",
    "    NINE = 9\n",
    "    TEN = 10\n",
    "    JACK = 11\n",
    "    QUEEN = 12\n",
    "    KING = 13"
   ]
  },
  {
   "cell_type": "code",
   "execution_count": 2,
   "metadata": {},
   "outputs": [],
   "source": [
    "# class for Cards\n",
    "class Cards(object):\n",
    "    def __init__(self, card, suit):\n",
    "        self.card = card\n",
    "        self.suit = suit\n",
    "    \n",
    "    def show(self):\n",
    "        print(f\"{self.card} of {self.suit}\")\n",
    "        \n",
    "# class for Deck\n",
    "class Deck(object):\n",
    "    def __init__(self):\n",
    "        self.cards = []\n",
    "        self.makingDeck()\n",
    "        \n",
    "    def getCards(self):\n",
    "        return self.cards.pop()\n",
    "    \n",
    "    def makingDeck(self):\n",
    "        for suit in Suits:\n",
    "            for card in Values:\n",
    "                self.cards.append(Cards(Values(card), Suits(suit)))\n",
    "    \n",
    "    def show(self):\n",
    "        for k in self.cards:\n",
    "            k.show()\n",
    "            \n",
    "    def shuffle(self):\n",
    "        for i in range(len(self.cards)):\n",
    "            r = randint(0, i)\n",
    "            self.cards[i], self.cards[r] = self.cards[r], self.cards[i]\n",
    "                    \n",
    "# class of player\n",
    "class Player(object):\n",
    "    def __init__(self, name):\n",
    "        self.name = name\n",
    "        self.haveCards = []\n",
    "    \n",
    "    def handInCard(self, deck):\n",
    "        self.haveCards.append(deck.getCards())\n",
    "        \n",
    "    def orderOfCards(self):\n",
    "        self.haveCards.sort(key=lambda x: x.card)\n",
    "    \n",
    "    def show(self):\n",
    "        self.orderOfCards()\n",
    "        print(self.name + \" has \")\n",
    "        for c in self.haveCards:\n",
    "            c.show()"
   ]
  },
  {
   "cell_type": "code",
   "execution_count": 3,
   "metadata": {},
   "outputs": [
    {
     "name": "stdout",
     "output_type": "stream",
     "text": [
      "A has \n",
      "7 of Suits.SPADES\n",
      "7 of Suits.CLUBS\n",
      "8 of Suits.DIAMONDS\n",
      "B has \n",
      "10 of Suits.CLUBS\n",
      "12 of Suits.DIAMONDS\n",
      "13 of Suits.DIAMONDS\n"
     ]
    }
   ],
   "source": [
    "deck = Deck()\n",
    "deck.shuffle()\n",
    "\n",
    "player1 = Player(\"A\")\n",
    "player1.handInCard(deck)\n",
    "player1.handInCard(deck)\n",
    "player1.handInCard(deck)\n",
    "player1.show()\n",
    "\n",
    "player2 = Player(\"B\")\n",
    "player2.handInCard(deck)\n",
    "player2.handInCard(deck)\n",
    "player2.handInCard(deck)\n",
    "player2.show()"
   ]
  },
  {
   "cell_type": "code",
   "execution_count": null,
   "metadata": {},
   "outputs": [],
   "source": []
  }
 ],
 "metadata": {
  "kernelspec": {
   "display_name": "Python 3",
   "language": "python",
   "name": "python3"
  },
  "language_info": {
   "codemirror_mode": {
    "name": "ipython",
    "version": 3
   },
   "file_extension": ".py",
   "mimetype": "text/x-python",
   "name": "python",
   "nbconvert_exporter": "python",
   "pygments_lexer": "ipython3",
   "version": "3.8.5"
  }
 },
 "nbformat": 4,
 "nbformat_minor": 4
}
